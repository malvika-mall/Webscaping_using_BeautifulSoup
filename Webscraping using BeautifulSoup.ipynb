{
 "cells": [
  {
   "cell_type": "markdown",
   "id": "07e22d4b",
   "metadata": {},
   "source": [
    "# Webscraping Data From Real Website using BeautifulSoup"
   ]
  },
  {
   "cell_type": "markdown",
   "id": "69c7bfae",
   "metadata": {},
   "source": [
    "### 1. Importing libraries and dataset"
   ]
  },
  {
   "cell_type": "code",
   "execution_count": 1,
   "id": "9c19db56",
   "metadata": {},
   "outputs": [],
   "source": [
    "from bs4 import BeautifulSoup\n",
    "import requests"
   ]
  },
  {
   "cell_type": "code",
   "execution_count": 2,
   "id": "313ade58",
   "metadata": {},
   "outputs": [],
   "source": [
    "url=\"https://en.wikipedia.org/wiki/List_of_largest_companies_in_the_United_States_by_revenue\"\n",
    "page=requests.get(url)\n",
    "soup= BeautifulSoup(page.text, 'html')"
   ]
  },
  {
   "cell_type": "code",
   "execution_count": null,
   "id": "05f780ce",
   "metadata": {},
   "outputs": [],
   "source": [
    "print(soup)"
   ]
  },
  {
   "cell_type": "code",
   "execution_count": 5,
   "id": "b9acce06",
   "metadata": {},
   "outputs": [],
   "source": [
    "table=soup.find_all('table')[1]"
   ]
  },
  {
   "cell_type": "code",
   "execution_count": null,
   "id": "8aeae462",
   "metadata": {
    "scrolled": false
   },
   "outputs": [],
   "source": [
    "print(table)"
   ]
  },
  {
   "cell_type": "code",
   "execution_count": 12,
   "id": "fab9bfe2",
   "metadata": {},
   "outputs": [],
   "source": [
    "world_titles=table.find_all('th')"
   ]
  },
  {
   "cell_type": "code",
   "execution_count": 13,
   "id": "4f95b308",
   "metadata": {},
   "outputs": [
    {
     "data": {
      "text/plain": [
       "[<th>Rank\n",
       " </th>,\n",
       " <th>Name\n",
       " </th>,\n",
       " <th>Industry\n",
       " </th>,\n",
       " <th>Revenue <br/>(USD millions)\n",
       " </th>,\n",
       " <th>Revenue growth\n",
       " </th>,\n",
       " <th>Employees\n",
       " </th>,\n",
       " <th>Headquarters\n",
       " </th>]"
      ]
     },
     "execution_count": 13,
     "metadata": {},
     "output_type": "execute_result"
    }
   ],
   "source": [
    "world_titles"
   ]
  },
  {
   "cell_type": "code",
   "execution_count": 15,
   "id": "7a744f7a",
   "metadata": {},
   "outputs": [
    {
     "name": "stdout",
     "output_type": "stream",
     "text": [
      "['Rank', 'Name', 'Industry', 'Revenue (USD millions)', 'Revenue growth', 'Employees', 'Headquarters']\n"
     ]
    }
   ],
   "source": [
    "world_table_titles=[title.text.strip() for title in world_titles]\n",
    "print(world_table_titles)"
   ]
  },
  {
   "cell_type": "code",
   "execution_count": 16,
   "id": "c3bf8de3",
   "metadata": {},
   "outputs": [],
   "source": [
    "import pandas as pd"
   ]
  },
  {
   "cell_type": "code",
   "execution_count": 17,
   "id": "cfbbbb13",
   "metadata": {},
   "outputs": [
    {
     "data": {
      "text/html": [
       "<div>\n",
       "<style scoped>\n",
       "    .dataframe tbody tr th:only-of-type {\n",
       "        vertical-align: middle;\n",
       "    }\n",
       "\n",
       "    .dataframe tbody tr th {\n",
       "        vertical-align: top;\n",
       "    }\n",
       "\n",
       "    .dataframe thead th {\n",
       "        text-align: right;\n",
       "    }\n",
       "</style>\n",
       "<table border=\"1\" class=\"dataframe\">\n",
       "  <thead>\n",
       "    <tr style=\"text-align: right;\">\n",
       "      <th></th>\n",
       "      <th>Rank</th>\n",
       "      <th>Name</th>\n",
       "      <th>Industry</th>\n",
       "      <th>Revenue (USD millions)</th>\n",
       "      <th>Revenue growth</th>\n",
       "      <th>Employees</th>\n",
       "      <th>Headquarters</th>\n",
       "    </tr>\n",
       "  </thead>\n",
       "  <tbody>\n",
       "  </tbody>\n",
       "</table>\n",
       "</div>"
      ],
      "text/plain": [
       "Empty DataFrame\n",
       "Columns: [Rank, Name, Industry, Revenue (USD millions), Revenue growth, Employees, Headquarters]\n",
       "Index: []"
      ]
     },
     "execution_count": 17,
     "metadata": {},
     "output_type": "execute_result"
    }
   ],
   "source": [
    "df=pd.DataFrame(columns=world_table_titles)\n",
    "df"
   ]
  },
  {
   "cell_type": "code",
   "execution_count": 19,
   "id": "e103c23c",
   "metadata": {},
   "outputs": [],
   "source": [
    "column_data=table.find_all('tr')"
   ]
  },
  {
   "cell_type": "code",
   "execution_count": 25,
   "id": "790a00ee",
   "metadata": {},
   "outputs": [],
   "source": [
    "#iterating through column_data to fetch individual row data\n",
    "for row in column_data[1:]:\n",
    "    row_data=row.find_all('td')\n",
    "    individual_row_data=[data.text.strip() for data in row_data]\n",
    "  \n",
    "    length=len(df)\n",
    "    df.loc[length]=individual_row_data"
   ]
  },
  {
   "cell_type": "code",
   "execution_count": 26,
   "id": "96e369a6",
   "metadata": {},
   "outputs": [
    {
     "data": {
      "text/html": [
       "<div>\n",
       "<style scoped>\n",
       "    .dataframe tbody tr th:only-of-type {\n",
       "        vertical-align: middle;\n",
       "    }\n",
       "\n",
       "    .dataframe tbody tr th {\n",
       "        vertical-align: top;\n",
       "    }\n",
       "\n",
       "    .dataframe thead th {\n",
       "        text-align: right;\n",
       "    }\n",
       "</style>\n",
       "<table border=\"1\" class=\"dataframe\">\n",
       "  <thead>\n",
       "    <tr style=\"text-align: right;\">\n",
       "      <th></th>\n",
       "      <th>Rank</th>\n",
       "      <th>Name</th>\n",
       "      <th>Industry</th>\n",
       "      <th>Revenue (USD millions)</th>\n",
       "      <th>Revenue growth</th>\n",
       "      <th>Employees</th>\n",
       "      <th>Headquarters</th>\n",
       "    </tr>\n",
       "  </thead>\n",
       "  <tbody>\n",
       "    <tr>\n",
       "      <th>0</th>\n",
       "      <td>1</td>\n",
       "      <td>Walmart</td>\n",
       "      <td>General merchandisers</td>\n",
       "      <td>572,754</td>\n",
       "      <td>2.4%</td>\n",
       "      <td>2,300,000</td>\n",
       "      <td>Bentonville, Arkansas</td>\n",
       "    </tr>\n",
       "    <tr>\n",
       "      <th>1</th>\n",
       "      <td>2</td>\n",
       "      <td>Amazon</td>\n",
       "      <td>Retail and Cloud Computing</td>\n",
       "      <td>469,822</td>\n",
       "      <td>21.7%</td>\n",
       "      <td>1,608,000</td>\n",
       "      <td>Seattle, Washington</td>\n",
       "    </tr>\n",
       "    <tr>\n",
       "      <th>2</th>\n",
       "      <td>3</td>\n",
       "      <td>Apple</td>\n",
       "      <td>Electronics industry</td>\n",
       "      <td>365,817</td>\n",
       "      <td>33.2%</td>\n",
       "      <td>154,000</td>\n",
       "      <td>Cupertino, California</td>\n",
       "    </tr>\n",
       "    <tr>\n",
       "      <th>3</th>\n",
       "      <td>4</td>\n",
       "      <td>CVS Health</td>\n",
       "      <td>Healthcare</td>\n",
       "      <td>292,111</td>\n",
       "      <td>32.0%</td>\n",
       "      <td>258,000</td>\n",
       "      <td>Woonsocket, Rhode Island</td>\n",
       "    </tr>\n",
       "    <tr>\n",
       "      <th>4</th>\n",
       "      <td>5</td>\n",
       "      <td>UnitedHealth Group</td>\n",
       "      <td>Healthcare</td>\n",
       "      <td>287,597</td>\n",
       "      <td>11.8%</td>\n",
       "      <td>350,000</td>\n",
       "      <td>Minnetonka, Minnesota</td>\n",
       "    </tr>\n",
       "    <tr>\n",
       "      <th>...</th>\n",
       "      <td>...</td>\n",
       "      <td>...</td>\n",
       "      <td>...</td>\n",
       "      <td>...</td>\n",
       "      <td>...</td>\n",
       "      <td>...</td>\n",
       "      <td>...</td>\n",
       "    </tr>\n",
       "    <tr>\n",
       "      <th>95</th>\n",
       "      <td>96</td>\n",
       "      <td>General Dynamics</td>\n",
       "      <td>Airspace and defense</td>\n",
       "      <td>38,469</td>\n",
       "      <td>8.7%</td>\n",
       "      <td>103,100</td>\n",
       "      <td>Reston, Virginia</td>\n",
       "    </tr>\n",
       "    <tr>\n",
       "      <th>96</th>\n",
       "      <td>97</td>\n",
       "      <td>CHS</td>\n",
       "      <td>Agriculture cooperative</td>\n",
       "      <td>38,448</td>\n",
       "      <td>1.4%</td>\n",
       "      <td>9,941</td>\n",
       "      <td>Inver Grove Heights, Minnesota</td>\n",
       "    </tr>\n",
       "    <tr>\n",
       "      <th>97</th>\n",
       "      <td>98</td>\n",
       "      <td>USAA</td>\n",
       "      <td>Financials</td>\n",
       "      <td>37,470</td>\n",
       "      <td>3.2%</td>\n",
       "      <td>37,335</td>\n",
       "      <td>San Antonio, Texas</td>\n",
       "    </tr>\n",
       "    <tr>\n",
       "      <th>98</th>\n",
       "      <td>99</td>\n",
       "      <td>Northwestern Mutual</td>\n",
       "      <td>Insurance</td>\n",
       "      <td>36,751</td>\n",
       "      <td>8.8%</td>\n",
       "      <td>7,585</td>\n",
       "      <td>Milwaukee, Wisconsin</td>\n",
       "    </tr>\n",
       "    <tr>\n",
       "      <th>99</th>\n",
       "      <td>100</td>\n",
       "      <td>Nucor</td>\n",
       "      <td>Metals</td>\n",
       "      <td>36,484</td>\n",
       "      <td>81.2%</td>\n",
       "      <td>28,800</td>\n",
       "      <td>Charlotte, North Carolina</td>\n",
       "    </tr>\n",
       "  </tbody>\n",
       "</table>\n",
       "<p>100 rows × 7 columns</p>\n",
       "</div>"
      ],
      "text/plain": [
       "   Rank                 Name                    Industry  \\\n",
       "0     1              Walmart       General merchandisers   \n",
       "1     2               Amazon  Retail and Cloud Computing   \n",
       "2     3                Apple        Electronics industry   \n",
       "3     4           CVS Health                  Healthcare   \n",
       "4     5   UnitedHealth Group                  Healthcare   \n",
       "..  ...                  ...                         ...   \n",
       "95   96     General Dynamics        Airspace and defense   \n",
       "96   97                  CHS     Agriculture cooperative   \n",
       "97   98                 USAA                  Financials   \n",
       "98   99  Northwestern Mutual                   Insurance   \n",
       "99  100                Nucor                      Metals   \n",
       "\n",
       "   Revenue (USD millions) Revenue growth  Employees  \\\n",
       "0                 572,754           2.4%  2,300,000   \n",
       "1                 469,822          21.7%  1,608,000   \n",
       "2                 365,817          33.2%    154,000   \n",
       "3                 292,111          32.0%    258,000   \n",
       "4                 287,597          11.8%    350,000   \n",
       "..                    ...            ...        ...   \n",
       "95                 38,469           8.7%    103,100   \n",
       "96                 38,448           1.4%      9,941   \n",
       "97                 37,470           3.2%     37,335   \n",
       "98                 36,751           8.8%      7,585   \n",
       "99                 36,484          81.2%     28,800   \n",
       "\n",
       "                      Headquarters  \n",
       "0            Bentonville, Arkansas  \n",
       "1              Seattle, Washington  \n",
       "2            Cupertino, California  \n",
       "3         Woonsocket, Rhode Island  \n",
       "4            Minnetonka, Minnesota  \n",
       "..                             ...  \n",
       "95                Reston, Virginia  \n",
       "96  Inver Grove Heights, Minnesota  \n",
       "97              San Antonio, Texas  \n",
       "98            Milwaukee, Wisconsin  \n",
       "99       Charlotte, North Carolina  \n",
       "\n",
       "[100 rows x 7 columns]"
      ]
     },
     "execution_count": 26,
     "metadata": {},
     "output_type": "execute_result"
    }
   ],
   "source": [
    "df"
   ]
  },
  {
   "cell_type": "code",
   "execution_count": 27,
   "id": "c238bf04",
   "metadata": {},
   "outputs": [],
   "source": [
    "#Exporting table in csv\n",
    "df.to_csv(r'C:\\Users\\User01\\Webscraping using BeautifulSoup\\Companies By Revenue.csv', index=False)"
   ]
  }
 ],
 "metadata": {
  "kernelspec": {
   "display_name": "Python 3 (ipykernel)",
   "language": "python",
   "name": "python3"
  },
  "language_info": {
   "codemirror_mode": {
    "name": "ipython",
    "version": 3
   },
   "file_extension": ".py",
   "mimetype": "text/x-python",
   "name": "python",
   "nbconvert_exporter": "python",
   "pygments_lexer": "ipython3",
   "version": "3.10.9"
  }
 },
 "nbformat": 4,
 "nbformat_minor": 5
}
